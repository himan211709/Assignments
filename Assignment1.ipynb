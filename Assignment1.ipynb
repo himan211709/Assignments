{
 "cells": [
  {
   "cell_type": "markdown",
   "id": "3864a0a0",
   "metadata": {},
   "source": [
    "### Problem 1"
   ]
  },
  {
   "cell_type": "code",
   "execution_count": 9,
   "id": "e5f572d0",
   "metadata": {},
   "outputs": [
    {
     "name": "stdout",
     "output_type": "stream",
     "text": [
      "          0         1         2         3\n",
      "0  0.356145  0.060981  0.158373  0.567843\n",
      "1  0.442499  0.058371  0.236515  0.909155\n",
      "2  0.874492  0.049425  0.426692  0.522779\n",
      "3  0.617297  0.164099  0.912426  0.448729\n"
     ]
    }
   ],
   "source": [
    "import pandas as pd\n",
    "import numpy as np\n",
    "data = np.random.rand(4, 4)\n",
    "df = pd.DataFrame(data)\n",
    "print(df)\n"
   ]
  },
  {
   "cell_type": "markdown",
   "id": "83fe47fe",
   "metadata": {},
   "source": [
    "### Problem 2"
   ]
  },
  {
   "cell_type": "code",
   "execution_count": 10,
   "id": "81e7de27",
   "metadata": {},
   "outputs": [
    {
     "name": "stdout",
     "output_type": "stream",
     "text": [
      "   Random value 1  Random value 2  Random value 3  Random value 4\n",
      "0        0.356145        0.060981        0.158373        0.567843\n",
      "1        0.442499        0.058371        0.236515        0.909155\n",
      "2        0.874492        0.049425        0.426692        0.522779\n",
      "3        0.617297        0.164099        0.912426        0.448729\n"
     ]
    }
   ],
   "source": [
    "df.columns =['Random value 1', 'Random value 2', 'Random value 3', 'Random value 4']\n",
    "print(df)"
   ]
  },
  {
   "cell_type": "markdown",
   "id": "319362ed",
   "metadata": {},
   "source": [
    "### Problem 3"
   ]
  },
  {
   "cell_type": "code",
   "execution_count": 11,
   "id": "902f27f0",
   "metadata": {},
   "outputs": [
    {
     "name": "stdout",
     "output_type": "stream",
     "text": [
      "       Random value 1  Random value 2  Random value 3  Random value 4\n",
      "count        4.000000        4.000000        4.000000        4.000000\n",
      "mean         0.572608        0.083219        0.433501        0.612127\n",
      "std          0.228703        0.054146        0.338583        0.204017\n",
      "min          0.356145        0.049425        0.158373        0.448729\n",
      "25%          0.420911        0.056135        0.216980        0.504267\n",
      "50%          0.529898        0.059676        0.331603        0.545311\n",
      "75%          0.681595        0.086760        0.548125        0.653171\n",
      "max          0.874492        0.164099        0.912426        0.909155\n"
     ]
    }
   ],
   "source": [
    "descriptive_statstics = df.describe()\n",
    "print(descriptive_statstics)\n"
   ]
  },
  {
   "cell_type": "markdown",
   "id": "d9525519",
   "metadata": {},
   "source": [
    "### Problem 4\n"
   ]
  },
  {
   "cell_type": "code",
   "execution_count": 12,
   "id": "908180db",
   "metadata": {},
   "outputs": [
    {
     "name": "stdout",
     "output_type": "stream",
     "text": [
      "Null values:\n",
      "Random value 1    0\n",
      "Random value 2    0\n",
      "Random value 3    0\n",
      "Random value 4    0\n",
      "dtype: int64\n",
      "\n",
      "Data types:\n",
      "Random value 1    float64\n",
      "Random value 2    float64\n",
      "Random value 3    float64\n",
      "Random value 4    float64\n",
      "dtype: object\n"
     ]
    }
   ],
   "source": [
    "null_values = df.isnull().sum()\n",
    "data_types = df.dtypes\n",
    "print(\"Null values:\")\n",
    "print(null_values)\n",
    "print(\"\\nData types:\")\n",
    "print(data_types)"
   ]
  },
  {
   "cell_type": "markdown",
   "id": "4afffec5",
   "metadata": {},
   "source": [
    "### Problem 5\n"
   ]
  },
  {
   "cell_type": "code",
   "execution_count": 13,
   "id": "f8d529e2",
   "metadata": {},
   "outputs": [
    {
     "name": "stdout",
     "output_type": "stream",
     "text": [
      "Using location method:\n",
      "   Random value 2  Random value 3\n",
      "0        0.060981        0.158373\n",
      "1        0.058371        0.236515\n",
      "2        0.049425        0.426692\n",
      "3        0.164099        0.912426\n",
      "\n",
      "Using index location method:\n",
      "   Random value 2  Random value 3\n",
      "0        0.060981        0.158373\n",
      "1        0.058371        0.236515\n",
      "2        0.049425        0.426692\n",
      "3        0.164099        0.912426\n"
     ]
    }
   ],
   "source": [
    "location_method_result = df.iloc[:, 1:3]\n",
    "index_location_method_result = df[['Random value 2', 'Random value 3']]\n",
    "print(\"Using location method:\")\n",
    "print(location_method_result)\n",
    "print(\"\\nUsing index location method:\")\n",
    "print(index_location_method_result)\n"
   ]
  }
 ],
 "metadata": {
  "kernelspec": {
   "display_name": "Python 3 (ipykernel)",
   "language": "python",
   "name": "python3"
  },
  "language_info": {
   "codemirror_mode": {
    "name": "ipython",
    "version": 3
   },
   "file_extension": ".py",
   "mimetype": "text/x-python",
   "name": "python",
   "nbconvert_exporter": "python",
   "pygments_lexer": "ipython3",
   "version": "3.11.3"
  }
 },
 "nbformat": 4,
 "nbformat_minor": 5
}
